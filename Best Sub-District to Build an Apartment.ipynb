{
 "cells": [
  {
   "cell_type": "markdown",
   "metadata": {
    "collapsed": true
   },
   "source": [
    "# Best Sub-District to Build an Apartment  \n",
    "Welcome to this notebook. In this notebook, I'll try to find the best sub-district to build an apartment at Bandung City, Indonesia. But before that, let's talk about the problem."
   ]
  },
  {
   "cell_type": "markdown",
   "metadata": {},
   "source": [
    "## 1. Introduction  \n",
    "Bandung is one of the most populous city in Indonesia, with <b>2.575 million population</b> and <b>15,342 people per square kilometer</b>. The area of this city is 167.7 square kilometer [1]. And fortunately, with such a high population density, the quality of residence in Bandung City also becomes better overtime, according to Public Relations of Bandung City. If the quality of residence becomes better, why would I choose this city then? Well, simply because this is where I live since I was born. And it's interesting to analyze which is the current best place to build an apartment on my own homeland.  \n",
    "\n",
    "Despite the quality of residence becomes better, Bandung City has a very high population growth overtime. It is predicted to reach <b>3 million population</b> on the future 10 years [2]. Would you agree that Bandung would need a better and more residence when the population gets that high? Then what do you think this city should build to suppress this problem? In my opinion, when it comes to population to land size proportion, an apartment would be the best, as it uses much smaller land size than the others such as housing. But, building an apartment isn't easy. We need to consider which is the best place to build it, how many facilities would be available near that place, how hard it is to build it on that place, and so many more to consider.  \n",
    "\n",
    "For this time, I'll choose on what places available nearby such as the venues, malls, schools, and population. And the final insight I'll give <b>wouldn't be the exact location</b>, but the best sub-district to build an apartment. <b>REMEMBER</b>, this insight is only for fun with considering only a few variables, and not the others such as the land available on that sub-district or the government's permission. <b>I WILL NOT RESPONSIBLE ON ANYTHING IF SOMETHING HAPPENED WHEN YOU FOLLOW THIS ADVICE</b>."
   ]
  },
  {
   "cell_type": "markdown",
   "metadata": {},
   "source": [
    "## 2. Data Description  \n",
    "With all those problems to be considered above, we need the data as below :  \n",
    " - Foursquare API to get the information of facilities such as venues, malls, and schools [3].  \n",
    " - I found the data from the Open Data Bandung City about the population density on each sub-district [4].  \n",
    " - I use Google Map to find the center on each sub-district [5]"
   ]
  },
  {
   "cell_type": "markdown",
   "metadata": {},
   "source": [
    "## 3. References  \n",
    "[1] [Indonesia Population](http://worldpopulationreview.com/countries/indonesia-population/)  \n",
    "[2] [Bandung City Population](http://worldpopulationreview.com/world-cities/bandung-population/)  \n",
    "[3] [Foursquare API for Developers](https://foursquare.com/developers/apps)  \n",
    "[4] [Open Data Bandung City](http://data.bandung.go.id/)  \n",
    "[5] [Google Maps](https://www.google.com/maps)\""
   ]
  }
 ],
 "metadata": {
  "kernelspec": {
   "display_name": "Python 3.6",
   "language": "python",
   "name": "python3"
  },
  "language_info": {
   "codemirror_mode": {
    "name": "ipython",
    "version": 3
   },
   "file_extension": ".py",
   "mimetype": "text/x-python",
   "name": "python",
   "nbconvert_exporter": "python",
   "pygments_lexer": "ipython3",
   "version": "3.6.9"
  }
 },
 "nbformat": 4,
 "nbformat_minor": 1
}
